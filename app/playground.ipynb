{
 "cells": [
  {
   "cell_type": "code",
   "execution_count": 1,
   "id": "initial_id",
   "metadata": {
    "ExecuteTime": {
     "end_time": "2024-09-13T11:42:47.755887Z",
     "start_time": "2024-09-13T11:42:47.609909Z"
    }
   },
   "outputs": [],
   "source": [
    "from haystack import Pipeline\n",
    "from haystack.document_stores.types import DuplicatePolicy\n",
    "from haystack.components.builders.prompt_builder import PromptBuilder\n",
    "from haystack_integrations.components.generators.ollama import OllamaGenerator\n",
    "from haystack_integrations.components.retrievers.qdrant import QdrantEmbeddingRetriever\n",
    "from haystack_integrations.document_stores.qdrant import QdrantDocumentStore\n",
    "from haystack.components.embedders import SentenceTransformersTextEmbedder, SentenceTransformersDocumentEmbedder\n",
    "\n",
    "from datasets import load_dataset\n",
    "from haystack import Document"
   ]
  },
  {
   "cell_type": "code",
   "execution_count": 2,
   "id": "c4a3770ed065a4b1",
   "metadata": {
    "collapsed": false,
    "jupyter": {
     "outputs_hidden": false
    }
   },
   "outputs": [],
   "source": [
    "document_store = QdrantDocumentStore(\n",
    "    url=\"http://localhost:6333\",\n",
    "    recreate_index=True,\n",
    "    return_embedding=True,\n",
    "    wait_result_from_api=True,\n",
    ")"
   ]
  },
  {
   "cell_type": "code",
   "execution_count": 3,
   "id": "e78ae73c-d539-4b38-a0d4-2d3dcf0e8d2e",
   "metadata": {},
   "outputs": [
    {
     "name": "stderr",
     "output_type": "stream",
     "text": [
      "/home/uncreative/miniconda3/envs/summerschool/lib/python3.10/site-packages/transformers/tokenization_utils_base.py:1601: FutureWarning: `clean_up_tokenization_spaces` was not set. It will be set to `True` by default. This behavior will be depracted in transformers v4.45, and will be then set to `False` by default. For more details check this issue: https://github.com/huggingface/transformers/issues/31884\n",
      "  warnings.warn(\n"
     ]
    },
    {
     "data": {
      "application/vnd.jupyter.widget-view+json": {
       "model_id": "d6fe7d0324b34619a4a14be348710c75",
       "version_major": 2,
       "version_minor": 0
      },
      "text/plain": [
       "Batches:   0%|          | 0/159 [00:00<?, ?it/s]"
      ]
     },
     "metadata": {},
     "output_type": "display_data"
    },
    {
     "name": "stderr",
     "output_type": "stream",
     "text": [
      "5100it [00:05, 1010.47it/s]                                                     \n"
     ]
    },
    {
     "data": {
      "text/plain": [
       "5062"
      ]
     },
     "execution_count": 3,
     "metadata": {},
     "output_type": "execute_result"
    }
   ],
   "source": [
    "dataset = load_dataset(\"PaulAdversarial/all_news_finance_sm_1h2023\", split=\"train\")\n",
    "documents = [Document(content=doc[\"title\"]) for doc in dataset]\n",
    "\n",
    "document_embedder = SentenceTransformersDocumentEmbedder()  \n",
    "document_embedder.warm_up()\n",
    "documents_with_embeddings = document_embedder.run(documents)\n",
    "\n",
    "document_store.write_documents(documents_with_embeddings.get(\"documents\"),policy=DuplicatePolicy.OVERWRITE)"
   ]
  },
  {
   "cell_type": "code",
   "execution_count": 4,
   "id": "a866dd88-951a-43a9-ba71-a65e978fa020",
   "metadata": {},
   "outputs": [],
   "source": [
    "retriever = QdrantEmbeddingRetriever(document_store=document_store)"
   ]
  },
  {
   "cell_type": "code",
   "execution_count": 5,
   "id": "7ca6fade-e5f4-4021-86af-b35b0647a7a2",
   "metadata": {},
   "outputs": [],
   "source": [
    "template = \"\"\"\n",
    "Given only the following information, answer the question.\n",
    "Ignore your own knowledge.\n",
    "\n",
    "Context:\n",
    "{% for document in documents %}\n",
    "    {{ document.content }}\n",
    "{% endfor %}\n",
    "\n",
    "\n",
    "Question: {{ query }}?\n",
    "\"\"\""
   ]
  },
  {
   "cell_type": "code",
   "execution_count": 6,
   "id": "74329d72-5541-4b39-80f3-b572b4e8bf05",
   "metadata": {},
   "outputs": [
    {
     "data": {
      "text/plain": [
       "<haystack.core.pipeline.pipeline.Pipeline object at 0x7f55e568b1f0>\n",
       "🚅 Components\n",
       "  - text_embedder: SentenceTransformersTextEmbedder\n",
       "  - retriever: QdrantEmbeddingRetriever\n",
       "  - prompt_builder: PromptBuilder\n",
       "  - llm: OllamaGenerator\n",
       "🛤️ Connections\n",
       "  - text_embedder.embedding -> retriever.query_embedding (List[float])\n",
       "  - retriever.documents -> prompt_builder.documents (List[Document])\n",
       "  - prompt_builder.prompt -> llm.prompt (str)"
      ]
     },
     "execution_count": 6,
     "metadata": {},
     "output_type": "execute_result"
    }
   ],
   "source": [
    "pipe = Pipeline()\n",
    "\n",
    "pipe.add_component(\"text_embedder\", SentenceTransformersTextEmbedder())\n",
    "pipe.add_component(\"retriever\", retriever)\n",
    "pipe.add_component(\"prompt_builder\", PromptBuilder(template=template))\n",
    "pipe.add_component(\"llm\", OllamaGenerator(model=\"llama3.1\"))\n",
    "\n",
    "pipe.connect(\"text_embedder.embedding\", \"retriever.query_embedding\")\n",
    "pipe.connect(\"retriever\", \"prompt_builder.documents\")\n",
    "pipe.connect(\"prompt_builder\", \"llm\")"
   ]
  },
  {
   "cell_type": "code",
   "execution_count": 8,
   "id": "9b7d4835-f00e-435a-9f6d-7239c621b1a7",
   "metadata": {},
   "outputs": [
    {
     "data": {
      "application/vnd.jupyter.widget-view+json": {
       "model_id": "96b0f82f75934563bfb6f400a5f2e36c",
       "version_major": 2,
       "version_minor": 0
      },
      "text/plain": [
       "Batches:   0%|          | 0/1 [00:00<?, ?it/s]"
      ]
     },
     "metadata": {},
     "output_type": "display_data"
    },
    {
     "name": "stdout",
     "output_type": "stream",
     "text": [
      "['Based on the provided context, here is the news I have about CNBC:\\n\\n* CNBC Daily Open mentions that Credit Suisse has spread the banking crisis to Europe. This suggests that CNBC is reporting on financial and business news.\\n* There is no specific article or update mentioned as being from CNBC itself, but rather a mention of their format (\"CNBC Daily Open\") in relation to another piece of information.\\n\\nIt appears that CNBC is not the primary source for any specific news story within this context. However, they are referenced as part of the general flow of business and financial news.']\n"
     ]
    }
   ],
   "source": [
    "query = \"Give me all the news you have about CNBC\"\n",
    "\n",
    "response = pipe.run({\"prompt_builder\": {\"query\": query}, \"text_embedder\": {\"text\": query}})\n",
    "\n",
    "print(response[\"llm\"][\"replies\"])"
   ]
  },
  {
   "cell_type": "code",
   "execution_count": null,
   "id": "d78b5fa2-e034-4b50-84e7-83366839ca3c",
   "metadata": {},
   "outputs": [],
   "source": []
  }
 ],
 "metadata": {
  "kernelspec": {
   "display_name": "Python 3 (ipykernel)",
   "language": "python",
   "name": "python3"
  },
  "language_info": {
   "codemirror_mode": {
    "name": "ipython",
    "version": 3
   },
   "file_extension": ".py",
   "mimetype": "text/x-python",
   "name": "python",
   "nbconvert_exporter": "python",
   "pygments_lexer": "ipython3",
   "version": "3.10.14"
  }
 },
 "nbformat": 4,
 "nbformat_minor": 5
}
